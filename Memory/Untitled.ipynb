{
 "cells": [
  {
   "cell_type": "code",
   "execution_count": 6,
   "id": "d82f6e6b",
   "metadata": {},
   "outputs": [],
   "source": [
    "from PIL import Image\n",
    "import numpy as np"
   ]
  },
  {
   "cell_type": "code",
   "execution_count": 7,
   "id": "9aa81e3d",
   "metadata": {},
   "outputs": [],
   "source": [
    "icons = Image.open('icons.jpg')"
   ]
  },
  {
   "cell_type": "code",
   "execution_count": 8,
   "id": "465cf6c8",
   "metadata": {},
   "outputs": [],
   "source": [
    "im_np = np.array(im)"
   ]
  },
  {
   "cell_type": "code",
   "execution_count": 15,
   "id": "627fbb11",
   "metadata": {},
   "outputs": [],
   "source": [
    "dim = im_np.shape[0] // 4"
   ]
  },
  {
   "cell_type": "code",
   "execution_count": 65,
   "id": "90093685",
   "metadata": {},
   "outputs": [],
   "source": []
  },
  {
   "cell_type": "code",
   "execution_count": 69,
   "id": "ae9102b4",
   "metadata": {},
   "outputs": [],
   "source": [
    "ims = []\n",
    "for i in range(4):\n",
    "    for j in range(4):\n",
    "        ims.append(im_np[i * dim : (i+1) * dim , j * dim : (j+1) * dim , :])"
   ]
  },
  {
   "cell_type": "code",
   "execution_count": 67,
   "id": "28392309",
   "metadata": {},
   "outputs": [
    {
     "name": "stdout",
     "output_type": "stream",
     "text": [
      "(250, 250, 3)\n",
      "(250, 250, 3)\n",
      "(250, 250, 3)\n",
      "(250, 250, 3)\n",
      "(250, 250, 3)\n",
      "(250, 250, 3)\n",
      "(250, 250, 3)\n",
      "(250, 250, 3)\n",
      "(250, 250, 3)\n",
      "(250, 250, 3)\n",
      "(250, 250, 3)\n",
      "(250, 250, 3)\n",
      "(250, 250, 3)\n",
      "(250, 250, 3)\n",
      "(250, 250, 3)\n",
      "(250, 250, 3)\n"
     ]
    }
   ],
   "source": [
    "for i in ims:\n",
    "    print(i.shape)"
   ]
  },
  {
   "cell_type": "code",
   "execution_count": 76,
   "id": "cc4fa93e",
   "metadata": {},
   "outputs": [],
   "source": [
    "j = 0\n",
    "for i in ims:\n",
    "    Image.fromarray(i).save(f'{j}.jpg')\n",
    "    j += 1"
   ]
  },
  {
   "cell_type": "code",
   "execution_count": null,
   "id": "244dd620",
   "metadata": {},
   "outputs": [],
   "source": []
  }
 ],
 "metadata": {
  "kernelspec": {
   "display_name": "Python 3 (ipykernel)",
   "language": "python",
   "name": "python3"
  },
  "language_info": {
   "codemirror_mode": {
    "name": "ipython",
    "version": 3
   },
   "file_extension": ".py",
   "mimetype": "text/x-python",
   "name": "python",
   "nbconvert_exporter": "python",
   "pygments_lexer": "ipython3",
   "version": "3.9.16"
  }
 },
 "nbformat": 4,
 "nbformat_minor": 5
}
