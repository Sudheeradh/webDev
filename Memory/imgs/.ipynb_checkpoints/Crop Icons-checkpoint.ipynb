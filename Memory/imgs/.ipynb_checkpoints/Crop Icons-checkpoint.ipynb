{
 "cells": [
  {
   "cell_type": "code",
   "execution_count": 4,
   "id": "fd14f3c0",
   "metadata": {},
   "outputs": [],
   "source": [
    "from PIL import Image\n",
    "import numpy as np"
   ]
  },
  {
   "cell_type": "code",
   "execution_count": 5,
   "id": "b4aa35ba",
   "metadata": {},
   "outputs": [],
   "source": [
    "image = Image.open('icons.jpg')\n",
    "im_np = np.array(image)\n",
    "dim = im_np.shape[0] // 4\n",
    "k = 0\n",
    "for i in range(4):\n",
    "    for j in range(4):\n",
    "        Image.fromarray(im_np[i * dim : (i+1) * dim , j * dim : (j+1) * dim , :]).save(f'{k}.jpg')\n",
    "        k += 1"
   ]
  },
  {
   "cell_type": "code",
   "execution_count": null,
   "id": "5eb85e5c",
   "metadata": {},
   "outputs": [],
   "source": []
  }
 ],
 "metadata": {
  "kernelspec": {
   "display_name": "Python 3 (ipykernel)",
   "language": "python",
   "name": "python3"
  },
  "language_info": {
   "codemirror_mode": {
    "name": "ipython",
    "version": 3
   },
   "file_extension": ".py",
   "mimetype": "text/x-python",
   "name": "python",
   "nbconvert_exporter": "python",
   "pygments_lexer": "ipython3",
   "version": "3.9.16"
  }
 },
 "nbformat": 4,
 "nbformat_minor": 5
}
